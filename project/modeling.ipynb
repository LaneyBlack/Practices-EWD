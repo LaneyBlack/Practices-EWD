{
 "cells": [
  {
   "cell_type": "code",
   "id": "initial_id",
   "metadata": {
    "collapsed": true,
    "ExecuteTime": {
     "end_time": "2025-06-10T22:44:51.813623Z",
     "start_time": "2025-06-10T22:44:42.135624Z"
    }
   },
   "source": [
    "import pandas as pd\n",
    "\n",
    "# df = pd.read_csv('data/cleaned_data.csv')\n",
    "sample_size = 250000\n",
    "df = pd.read_csv('data/cleaned_data.csv', nrows=sample_size)"
   ],
   "outputs": [],
   "execution_count": 32
  },
  {
   "metadata": {
    "ExecuteTime": {
     "end_time": "2025-06-10T22:44:53.736124Z",
     "start_time": "2025-06-10T22:44:52.521624Z"
    }
   },
   "cell_type": "code",
   "source": [
    "# Define ranges\n",
    "low = df[df['Popularity'] <= 33]\n",
    "medium = df[(df['Popularity'] > 33) & (df['Popularity'] <= 66)]\n",
    "high = df[df['Popularity'] > 66]\n",
    "\n",
    "# Sample the same number from each\n",
    "n = min(len(low), len(medium), len(high))  # or choose a fixed number\n",
    "print(f'Lowest group {n}')\n",
    "low_sample = low.sample(n)\n",
    "medium_sample = medium.sample(n)\n",
    "high_sample = high.sample(n)\n",
    "\n",
    "balanced_df = pd.concat([low_sample, medium_sample, high_sample])"
   ],
   "id": "cf0fd7e97da90b3e",
   "outputs": [
    {
     "name": "stdout",
     "output_type": "stream",
     "text": [
      "Lowest group 13832\n"
     ]
    }
   ],
   "execution_count": 33
  },
  {
   "metadata": {
    "ExecuteTime": {
     "end_time": "2025-06-10T21:38:59.598250Z",
     "start_time": "2025-06-10T21:38:59.546250Z"
    }
   },
   "cell_type": "code",
   "source": [
    "balanced_df.drop('text', inplace=True, axis=1)\n",
    "balanced_df.drop('Language', inplace=True, axis=1)\n",
    "df = balanced_df"
   ],
   "id": "897e200b5fde3bb",
   "outputs": [],
   "execution_count": 3
  },
  {
   "metadata": {
    "ExecuteTime": {
     "end_time": "2025-06-10T21:38:59.965248Z",
     "start_time": "2025-06-10T21:38:59.712252Z"
    }
   },
   "cell_type": "code",
   "source": [
    "from sklearn.model_selection import train_test_split\n",
    "X = df.drop(columns=['Popularity'])\n",
    "y = df['Popularity']\n",
    "X_train, X_test, y_train, y_test = train_test_split(X, y, test_size=0.2, random_state=42)"
   ],
   "id": "2a519210fbb97d40",
   "outputs": [],
   "execution_count": 4
  },
  {
   "metadata": {
    "ExecuteTime": {
     "end_time": "2025-06-10T21:39:00.044485Z",
     "start_time": "2025-06-10T21:39:00.038427Z"
    }
   },
   "cell_type": "code",
   "source": [
    "from sklearn.metrics import mean_absolute_error, mean_squared_error, r2_score\n",
    "\n",
    "def evaluate_model(y_true, y_pred):\n",
    "    print(\"MAE:\", mean_absolute_error(y_true, y_pred))\n",
    "    print(\"MSE:\", mean_squared_error(y_true, y_pred))\n",
    "    print(\"R²:\", r2_score(y_true, y_pred))"
   ],
   "id": "bb60152115e11401",
   "outputs": [],
   "execution_count": 5
  },
  {
   "metadata": {
    "ExecuteTime": {
     "end_time": "2025-06-10T21:39:00.383101Z",
     "start_time": "2025-06-10T21:39:00.185102Z"
    }
   },
   "cell_type": "code",
   "source": [
    "from sklearn.pipeline import Pipeline\n",
    "from sklearn.linear_model import LinearRegression\n",
    "from sklearn.ensemble import RandomForestRegressor\n",
    "from xgboost import XGBRegressor\n",
    "\n",
    "models = {\n",
    "    'LinearRegression': LinearRegression(),\n",
    "    'RandomForest': RandomForestRegressor(random_state=42),\n",
    "    'XGBoost': XGBRegressor(random_state=42)\n",
    "}"
   ],
   "id": "95addaf3358477c",
   "outputs": [],
   "execution_count": 6
  },
  {
   "metadata": {
    "ExecuteTime": {
     "end_time": "2025-06-10T21:40:07.387099Z",
     "start_time": "2025-06-10T21:39:00.398825Z"
    }
   },
   "cell_type": "code",
   "source": [
    "results = []\n",
    "for name, model in models.items():\n",
    "    pipeline = Pipeline([\n",
    "        ('model', model)\n",
    "    ])\n",
    "    pipeline.fit(X_train, y_train)\n",
    "    y_pred = pipeline.predict(X_test)\n",
    "    # Evaluate as needed\n",
    "    print(f\"{name} fitted and evaluated.\")\n",
    "\n",
    "    # Calculate metrics\n",
    "    mae = mean_absolute_error(y_test, y_pred)\n",
    "    mse = mean_squared_error(y_test, y_pred)\n",
    "    r2 = r2_score(y_test, y_pred)\n",
    "\n",
    "    results.append({\n",
    "        'Model': name,\n",
    "        'MAE': mae,\n",
    "        'MSE': mse,\n",
    "        'R2': r2\n",
    "    })"
   ],
   "id": "c39015e22ba94c31",
   "outputs": [
    {
     "name": "stdout",
     "output_type": "stream",
     "text": [
      "LinearRegression fitted and evaluated.\n",
      "RandomForest fitted and evaluated.\n",
      "XGBoost fitted and evaluated.\n"
     ]
    }
   ],
   "execution_count": 7
  },
  {
   "metadata": {
    "ExecuteTime": {
     "end_time": "2025-06-10T21:40:07.636634Z",
     "start_time": "2025-06-10T21:40:07.618634Z"
    }
   },
   "cell_type": "code",
   "source": [
    "results_df = pd.DataFrame(results)\n",
    "results_df"
   ],
   "id": "f6dda6d21ee319dd",
   "outputs": [
    {
     "data": {
      "text/plain": [
       "              Model        MAE         MSE        R2\n",
       "0  LinearRegression  16.423171  391.909339  0.302458\n",
       "1      RandomForest   9.029301  168.524802  0.700050\n",
       "2           XGBoost  11.398643  221.575089  0.605628"
      ],
      "text/html": [
       "<div>\n",
       "<style scoped>\n",
       "    .dataframe tbody tr th:only-of-type {\n",
       "        vertical-align: middle;\n",
       "    }\n",
       "\n",
       "    .dataframe tbody tr th {\n",
       "        vertical-align: top;\n",
       "    }\n",
       "\n",
       "    .dataframe thead th {\n",
       "        text-align: right;\n",
       "    }\n",
       "</style>\n",
       "<table border=\"1\" class=\"dataframe\">\n",
       "  <thead>\n",
       "    <tr style=\"text-align: right;\">\n",
       "      <th></th>\n",
       "      <th>Model</th>\n",
       "      <th>MAE</th>\n",
       "      <th>MSE</th>\n",
       "      <th>R2</th>\n",
       "    </tr>\n",
       "  </thead>\n",
       "  <tbody>\n",
       "    <tr>\n",
       "      <th>0</th>\n",
       "      <td>LinearRegression</td>\n",
       "      <td>16.423171</td>\n",
       "      <td>391.909339</td>\n",
       "      <td>0.302458</td>\n",
       "    </tr>\n",
       "    <tr>\n",
       "      <th>1</th>\n",
       "      <td>RandomForest</td>\n",
       "      <td>9.029301</td>\n",
       "      <td>168.524802</td>\n",
       "      <td>0.700050</td>\n",
       "    </tr>\n",
       "    <tr>\n",
       "      <th>2</th>\n",
       "      <td>XGBoost</td>\n",
       "      <td>11.398643</td>\n",
       "      <td>221.575089</td>\n",
       "      <td>0.605628</td>\n",
       "    </tr>\n",
       "  </tbody>\n",
       "</table>\n",
       "</div>"
      ]
     },
     "execution_count": 8,
     "metadata": {},
     "output_type": "execute_result"
    }
   ],
   "execution_count": 8
  },
  {
   "metadata": {
    "ExecuteTime": {
     "end_time": "2025-06-10T21:40:07.724274Z",
     "start_time": "2025-06-10T21:40:07.720272Z"
    }
   },
   "cell_type": "code",
   "source": [
    "from sklearn.preprocessing import StandardScaler\n",
    "\n",
    "preprocessor = StandardScaler()"
   ],
   "id": "7abc9a4d99eb4bfc",
   "outputs": [],
   "execution_count": 9
  },
  {
   "metadata": {
    "ExecuteTime": {
     "end_time": "2025-06-10T23:24:13.026368Z",
     "start_time": "2025-06-10T23:22:26.617867Z"
    }
   },
   "cell_type": "code",
   "source": [
    "from sklearn.pipeline import Pipeline\n",
    "from sklearn.linear_model import LinearRegression\n",
    "from sklearn.ensemble import RandomForestRegressor, GradientBoostingRegressor, HistGradientBoostingRegressor\n",
    "from xgboost import XGBRegressor\n",
    "from sklearn.model_selection import train_test_split\n",
    "\n",
    "# Models to try\n",
    "models = {\n",
    "    'LinearRegression': LinearRegression(),\n",
    "    'RandomForest': RandomForestRegressor(random_state=42),\n",
    "    'eXtremeGBoost': XGBRegressor(random_state=42),\n",
    "    'GBoost':GradientBoostingRegressor(loss='absolute_error', random_state=42),\n",
    "    'HGBoosting': HistGradientBoostingRegressor(loss=\"absolute_error\",random_state=42)\n",
    "}\n",
    "\n",
    "results = []\n",
    "\n",
    "# Preprocess and fit each model\n",
    "for name, model in models.items():\n",
    "    pipeline = Pipeline([\n",
    "        ('scaler', StandardScaler()),\n",
    "        ('model', model)\n",
    "    ])\n",
    "    pipeline.fit(X_train, y_train)\n",
    "    y_pred = pipeline.predict(X_test)\n",
    "    # Evaluate as needed\n",
    "    print(f\"{name} fitted and evaluated.\")\n",
    "\n",
    "    # Calculate metrics\n",
    "    mae = mean_absolute_error(y_test, y_pred)\n",
    "    mse = mean_squared_error(y_test, y_pred)\n",
    "    r2 = r2_score(y_test, y_pred)\n",
    "\n",
    "    results.append({\n",
    "        'Model': name,\n",
    "        'MAE': mae,\n",
    "        'MSE': mse,\n",
    "        'R2': r2\n",
    "    })"
   ],
   "id": "995685bf8c51b792",
   "outputs": [
    {
     "name": "stdout",
     "output_type": "stream",
     "text": [
      "LinearRegression fitted and evaluated.\n",
      "RandomForest fitted and evaluated.\n",
      "eXtremeGBoost fitted and evaluated.\n",
      "GBoost fitted and evaluated.\n",
      "HGBoosting fitted and evaluated.\n"
     ]
    }
   ],
   "execution_count": 48
  },
  {
   "metadata": {
    "ExecuteTime": {
     "end_time": "2025-06-10T23:24:26.012865Z",
     "start_time": "2025-06-10T23:24:25.996867Z"
    }
   },
   "cell_type": "code",
   "source": [
    "results_df = pd.DataFrame(results)\n",
    "results_df"
   ],
   "id": "218c501efaac5a77",
   "outputs": [
    {
     "data": {
      "text/plain": [
       "              Model        MAE         MSE        R2\n",
       "0  LinearRegression  16.423171  391.909339  0.302458\n",
       "1      RandomForest   9.024775  168.388777  0.700292\n",
       "2     eXtremeGBoost  11.398643  221.575089  0.605628\n",
       "3            GBoost  15.178873  352.963434  0.371776\n",
       "4        HGBoosting  13.162735  291.162131  0.481773"
      ],
      "text/html": [
       "<div>\n",
       "<style scoped>\n",
       "    .dataframe tbody tr th:only-of-type {\n",
       "        vertical-align: middle;\n",
       "    }\n",
       "\n",
       "    .dataframe tbody tr th {\n",
       "        vertical-align: top;\n",
       "    }\n",
       "\n",
       "    .dataframe thead th {\n",
       "        text-align: right;\n",
       "    }\n",
       "</style>\n",
       "<table border=\"1\" class=\"dataframe\">\n",
       "  <thead>\n",
       "    <tr style=\"text-align: right;\">\n",
       "      <th></th>\n",
       "      <th>Model</th>\n",
       "      <th>MAE</th>\n",
       "      <th>MSE</th>\n",
       "      <th>R2</th>\n",
       "    </tr>\n",
       "  </thead>\n",
       "  <tbody>\n",
       "    <tr>\n",
       "      <th>0</th>\n",
       "      <td>LinearRegression</td>\n",
       "      <td>16.423171</td>\n",
       "      <td>391.909339</td>\n",
       "      <td>0.302458</td>\n",
       "    </tr>\n",
       "    <tr>\n",
       "      <th>1</th>\n",
       "      <td>RandomForest</td>\n",
       "      <td>9.024775</td>\n",
       "      <td>168.388777</td>\n",
       "      <td>0.700292</td>\n",
       "    </tr>\n",
       "    <tr>\n",
       "      <th>2</th>\n",
       "      <td>eXtremeGBoost</td>\n",
       "      <td>11.398643</td>\n",
       "      <td>221.575089</td>\n",
       "      <td>0.605628</td>\n",
       "    </tr>\n",
       "    <tr>\n",
       "      <th>3</th>\n",
       "      <td>GBoost</td>\n",
       "      <td>15.178873</td>\n",
       "      <td>352.963434</td>\n",
       "      <td>0.371776</td>\n",
       "    </tr>\n",
       "    <tr>\n",
       "      <th>4</th>\n",
       "      <td>HGBoosting</td>\n",
       "      <td>13.162735</td>\n",
       "      <td>291.162131</td>\n",
       "      <td>0.481773</td>\n",
       "    </tr>\n",
       "  </tbody>\n",
       "</table>\n",
       "</div>"
      ]
     },
     "execution_count": 49,
     "metadata": {},
     "output_type": "execute_result"
    }
   ],
   "execution_count": 49
  },
  {
   "metadata": {
    "ExecuteTime": {
     "end_time": "2025-06-10T23:11:31.073124Z",
     "start_time": "2025-06-10T23:09:47.821622Z"
    }
   },
   "cell_type": "code",
   "source": [
    "from sklearn.model_selection import RandomizedSearchCV\n",
    "from sklearn.ensemble import RandomForestRegressor\n",
    "\n",
    "param_grid = {\n",
    "    'n_estimators': [50, 100, 150],  # Reduced from 100-300\n",
    "    'max_depth': [None, 5, 10],      # Reduced depth\n",
    "    'min_samples_split': [2, 5],\n",
    "    'min_samples_leaf': [1, 2],\n",
    "    'max_samples': [0.5, 0.7]        # Train on subsets of data\n",
    "}\n",
    "\n",
    "rf = RandomForestRegressor(\n",
    "    random_state=42,\n",
    "    warm_start=True  # Reuse prior model for faster iterations\n",
    ")\n",
    "search = RandomizedSearchCV(\n",
    "    rf,\n",
    "    param_grid,\n",
    "    n_iter=5,\n",
    "    cv=4,\n",
    "    scoring='neg_mean_absolute_error',  # Optimizes MAE\n",
    "    n_jobs=-1,  # Use all CPU cores\n",
    "    random_state=42\n",
    ")\n",
    "search.fit(X_train, y_train)\n",
    "best_rf = search.best_estimator_"
   ],
   "id": "236edecd8c26a252",
   "outputs": [],
   "execution_count": 44
  },
  {
   "metadata": {
    "ExecuteTime": {
     "end_time": "2025-06-10T23:12:03.850625Z",
     "start_time": "2025-06-10T23:12:03.660123Z"
    }
   },
   "cell_type": "code",
   "source": [
    "from sklearn.metrics import mean_squared_error, mean_absolute_error, r2_score\n",
    "\n",
    "# Ensure X_test and y_test are defined in your environment\n",
    "y_pred = best_rf.predict(X_test)  # Generate predictions\n",
    "\n",
    "r2 = r2_score(y_test, y_pred)\n",
    "mse = mean_squared_error(y_test, y_pred)\n",
    "mae = mean_absolute_error(y_test, y_pred)\n",
    "\n",
    "print(f\"R²: {r2:.4f}\")\n",
    "print(f\"MSE: {mse:.4f}\")\n",
    "print(f\"MAE: {mae:.4f}\")"
   ],
   "id": "1f14f966e006aa2f",
   "outputs": [
    {
     "name": "stdout",
     "output_type": "stream",
     "text": [
      "R²: 0.6773\n",
      "MSE: 181.2815\n",
      "MAE: 9.6298\n"
     ]
    }
   ],
   "execution_count": 46
  },
  {
   "metadata": {
    "ExecuteTime": {
     "end_time": "2025-06-10T23:12:20.722122Z",
     "start_time": "2025-06-10T23:12:08.797123Z"
    }
   },
   "cell_type": "code",
   "source": [
    "rf = RandomForestRegressor(random_state=42)\n",
    "rf.fit(X_train, y_train)\n",
    "importances = rf.feature_importances_"
   ],
   "id": "7a30c160b312e9e9",
   "outputs": [
    {
     "ename": "KeyboardInterrupt",
     "evalue": "",
     "output_type": "error",
     "traceback": [
      "\u001B[1;31m---------------------------------------------------------------------------\u001B[0m",
      "\u001B[1;31mKeyboardInterrupt\u001B[0m                         Traceback (most recent call last)",
      "Cell \u001B[1;32mIn[47], line 2\u001B[0m\n\u001B[0;32m      1\u001B[0m rf \u001B[38;5;241m=\u001B[39m RandomForestRegressor(random_state\u001B[38;5;241m=\u001B[39m\u001B[38;5;241m42\u001B[39m)\n\u001B[1;32m----> 2\u001B[0m \u001B[43mrf\u001B[49m\u001B[38;5;241;43m.\u001B[39;49m\u001B[43mfit\u001B[49m\u001B[43m(\u001B[49m\u001B[43mX_train\u001B[49m\u001B[43m,\u001B[49m\u001B[43m \u001B[49m\u001B[43my_train\u001B[49m\u001B[43m)\u001B[49m\n\u001B[0;32m      3\u001B[0m importances \u001B[38;5;241m=\u001B[39m rf\u001B[38;5;241m.\u001B[39mfeature_importances_\n",
      "File \u001B[1;32mC:\\PJATK\\magister\\1st\\EWD\\projects\\.venv\\lib\\site-packages\\sklearn\\base.py:1389\u001B[0m, in \u001B[0;36m_fit_context.<locals>.decorator.<locals>.wrapper\u001B[1;34m(estimator, *args, **kwargs)\u001B[0m\n\u001B[0;32m   1382\u001B[0m     estimator\u001B[38;5;241m.\u001B[39m_validate_params()\n\u001B[0;32m   1384\u001B[0m \u001B[38;5;28;01mwith\u001B[39;00m config_context(\n\u001B[0;32m   1385\u001B[0m     skip_parameter_validation\u001B[38;5;241m=\u001B[39m(\n\u001B[0;32m   1386\u001B[0m         prefer_skip_nested_validation \u001B[38;5;129;01mor\u001B[39;00m global_skip_validation\n\u001B[0;32m   1387\u001B[0m     )\n\u001B[0;32m   1388\u001B[0m ):\n\u001B[1;32m-> 1389\u001B[0m     \u001B[38;5;28;01mreturn\u001B[39;00m fit_method(estimator, \u001B[38;5;241m*\u001B[39margs, \u001B[38;5;241m*\u001B[39m\u001B[38;5;241m*\u001B[39mkwargs)\n",
      "File \u001B[1;32mC:\\PJATK\\magister\\1st\\EWD\\projects\\.venv\\lib\\site-packages\\sklearn\\ensemble\\_forest.py:487\u001B[0m, in \u001B[0;36mBaseForest.fit\u001B[1;34m(self, X, y, sample_weight)\u001B[0m\n\u001B[0;32m    476\u001B[0m trees \u001B[38;5;241m=\u001B[39m [\n\u001B[0;32m    477\u001B[0m     \u001B[38;5;28mself\u001B[39m\u001B[38;5;241m.\u001B[39m_make_estimator(append\u001B[38;5;241m=\u001B[39m\u001B[38;5;28;01mFalse\u001B[39;00m, random_state\u001B[38;5;241m=\u001B[39mrandom_state)\n\u001B[0;32m    478\u001B[0m     \u001B[38;5;28;01mfor\u001B[39;00m i \u001B[38;5;129;01min\u001B[39;00m \u001B[38;5;28mrange\u001B[39m(n_more_estimators)\n\u001B[0;32m    479\u001B[0m ]\n\u001B[0;32m    481\u001B[0m \u001B[38;5;66;03m# Parallel loop: we prefer the threading backend as the Cython code\u001B[39;00m\n\u001B[0;32m    482\u001B[0m \u001B[38;5;66;03m# for fitting the trees is internally releasing the Python GIL\u001B[39;00m\n\u001B[0;32m    483\u001B[0m \u001B[38;5;66;03m# making threading more efficient than multiprocessing in\u001B[39;00m\n\u001B[0;32m    484\u001B[0m \u001B[38;5;66;03m# that case. However, for joblib 0.12+ we respect any\u001B[39;00m\n\u001B[0;32m    485\u001B[0m \u001B[38;5;66;03m# parallel_backend contexts set at a higher level,\u001B[39;00m\n\u001B[0;32m    486\u001B[0m \u001B[38;5;66;03m# since correctness does not rely on using threads.\u001B[39;00m\n\u001B[1;32m--> 487\u001B[0m trees \u001B[38;5;241m=\u001B[39m \u001B[43mParallel\u001B[49m\u001B[43m(\u001B[49m\n\u001B[0;32m    488\u001B[0m \u001B[43m    \u001B[49m\u001B[43mn_jobs\u001B[49m\u001B[38;5;241;43m=\u001B[39;49m\u001B[38;5;28;43mself\u001B[39;49m\u001B[38;5;241;43m.\u001B[39;49m\u001B[43mn_jobs\u001B[49m\u001B[43m,\u001B[49m\n\u001B[0;32m    489\u001B[0m \u001B[43m    \u001B[49m\u001B[43mverbose\u001B[49m\u001B[38;5;241;43m=\u001B[39;49m\u001B[38;5;28;43mself\u001B[39;49m\u001B[38;5;241;43m.\u001B[39;49m\u001B[43mverbose\u001B[49m\u001B[43m,\u001B[49m\n\u001B[0;32m    490\u001B[0m \u001B[43m    \u001B[49m\u001B[43mprefer\u001B[49m\u001B[38;5;241;43m=\u001B[39;49m\u001B[38;5;124;43m\"\u001B[39;49m\u001B[38;5;124;43mthreads\u001B[39;49m\u001B[38;5;124;43m\"\u001B[39;49m\u001B[43m,\u001B[49m\n\u001B[0;32m    491\u001B[0m \u001B[43m\u001B[49m\u001B[43m)\u001B[49m\u001B[43m(\u001B[49m\n\u001B[0;32m    492\u001B[0m \u001B[43m    \u001B[49m\u001B[43mdelayed\u001B[49m\u001B[43m(\u001B[49m\u001B[43m_parallel_build_trees\u001B[49m\u001B[43m)\u001B[49m\u001B[43m(\u001B[49m\n\u001B[0;32m    493\u001B[0m \u001B[43m        \u001B[49m\u001B[43mt\u001B[49m\u001B[43m,\u001B[49m\n\u001B[0;32m    494\u001B[0m \u001B[43m        \u001B[49m\u001B[38;5;28;43mself\u001B[39;49m\u001B[38;5;241;43m.\u001B[39;49m\u001B[43mbootstrap\u001B[49m\u001B[43m,\u001B[49m\n\u001B[0;32m    495\u001B[0m \u001B[43m        \u001B[49m\u001B[43mX\u001B[49m\u001B[43m,\u001B[49m\n\u001B[0;32m    496\u001B[0m \u001B[43m        \u001B[49m\u001B[43my\u001B[49m\u001B[43m,\u001B[49m\n\u001B[0;32m    497\u001B[0m \u001B[43m        \u001B[49m\u001B[43msample_weight\u001B[49m\u001B[43m,\u001B[49m\n\u001B[0;32m    498\u001B[0m \u001B[43m        \u001B[49m\u001B[43mi\u001B[49m\u001B[43m,\u001B[49m\n\u001B[0;32m    499\u001B[0m \u001B[43m        \u001B[49m\u001B[38;5;28;43mlen\u001B[39;49m\u001B[43m(\u001B[49m\u001B[43mtrees\u001B[49m\u001B[43m)\u001B[49m\u001B[43m,\u001B[49m\n\u001B[0;32m    500\u001B[0m \u001B[43m        \u001B[49m\u001B[43mverbose\u001B[49m\u001B[38;5;241;43m=\u001B[39;49m\u001B[38;5;28;43mself\u001B[39;49m\u001B[38;5;241;43m.\u001B[39;49m\u001B[43mverbose\u001B[49m\u001B[43m,\u001B[49m\n\u001B[0;32m    501\u001B[0m \u001B[43m        \u001B[49m\u001B[43mclass_weight\u001B[49m\u001B[38;5;241;43m=\u001B[39;49m\u001B[38;5;28;43mself\u001B[39;49m\u001B[38;5;241;43m.\u001B[39;49m\u001B[43mclass_weight\u001B[49m\u001B[43m,\u001B[49m\n\u001B[0;32m    502\u001B[0m \u001B[43m        \u001B[49m\u001B[43mn_samples_bootstrap\u001B[49m\u001B[38;5;241;43m=\u001B[39;49m\u001B[43mn_samples_bootstrap\u001B[49m\u001B[43m,\u001B[49m\n\u001B[0;32m    503\u001B[0m \u001B[43m        \u001B[49m\u001B[43mmissing_values_in_feature_mask\u001B[49m\u001B[38;5;241;43m=\u001B[39;49m\u001B[43mmissing_values_in_feature_mask\u001B[49m\u001B[43m,\u001B[49m\n\u001B[0;32m    504\u001B[0m \u001B[43m    \u001B[49m\u001B[43m)\u001B[49m\n\u001B[0;32m    505\u001B[0m \u001B[43m    \u001B[49m\u001B[38;5;28;43;01mfor\u001B[39;49;00m\u001B[43m \u001B[49m\u001B[43mi\u001B[49m\u001B[43m,\u001B[49m\u001B[43m \u001B[49m\u001B[43mt\u001B[49m\u001B[43m \u001B[49m\u001B[38;5;129;43;01min\u001B[39;49;00m\u001B[43m \u001B[49m\u001B[38;5;28;43menumerate\u001B[39;49m\u001B[43m(\u001B[49m\u001B[43mtrees\u001B[49m\u001B[43m)\u001B[49m\n\u001B[0;32m    506\u001B[0m \u001B[43m\u001B[49m\u001B[43m)\u001B[49m\n\u001B[0;32m    508\u001B[0m \u001B[38;5;66;03m# Collect newly grown trees\u001B[39;00m\n\u001B[0;32m    509\u001B[0m \u001B[38;5;28mself\u001B[39m\u001B[38;5;241m.\u001B[39mestimators_\u001B[38;5;241m.\u001B[39mextend(trees)\n",
      "File \u001B[1;32mC:\\PJATK\\magister\\1st\\EWD\\projects\\.venv\\lib\\site-packages\\sklearn\\utils\\parallel.py:77\u001B[0m, in \u001B[0;36mParallel.__call__\u001B[1;34m(self, iterable)\u001B[0m\n\u001B[0;32m     72\u001B[0m config \u001B[38;5;241m=\u001B[39m get_config()\n\u001B[0;32m     73\u001B[0m iterable_with_config \u001B[38;5;241m=\u001B[39m (\n\u001B[0;32m     74\u001B[0m     (_with_config(delayed_func, config), args, kwargs)\n\u001B[0;32m     75\u001B[0m     \u001B[38;5;28;01mfor\u001B[39;00m delayed_func, args, kwargs \u001B[38;5;129;01min\u001B[39;00m iterable\n\u001B[0;32m     76\u001B[0m )\n\u001B[1;32m---> 77\u001B[0m \u001B[38;5;28;01mreturn\u001B[39;00m \u001B[38;5;28;43msuper\u001B[39;49m\u001B[43m(\u001B[49m\u001B[43m)\u001B[49m\u001B[38;5;241;43m.\u001B[39;49m\u001B[38;5;21;43m__call__\u001B[39;49m\u001B[43m(\u001B[49m\u001B[43miterable_with_config\u001B[49m\u001B[43m)\u001B[49m\n",
      "File \u001B[1;32mC:\\PJATK\\magister\\1st\\EWD\\projects\\.venv\\lib\\site-packages\\joblib\\parallel.py:1986\u001B[0m, in \u001B[0;36mParallel.__call__\u001B[1;34m(self, iterable)\u001B[0m\n\u001B[0;32m   1984\u001B[0m     output \u001B[38;5;241m=\u001B[39m \u001B[38;5;28mself\u001B[39m\u001B[38;5;241m.\u001B[39m_get_sequential_output(iterable)\n\u001B[0;32m   1985\u001B[0m     \u001B[38;5;28mnext\u001B[39m(output)\n\u001B[1;32m-> 1986\u001B[0m     \u001B[38;5;28;01mreturn\u001B[39;00m output \u001B[38;5;28;01mif\u001B[39;00m \u001B[38;5;28mself\u001B[39m\u001B[38;5;241m.\u001B[39mreturn_generator \u001B[38;5;28;01melse\u001B[39;00m \u001B[38;5;28;43mlist\u001B[39;49m\u001B[43m(\u001B[49m\u001B[43moutput\u001B[49m\u001B[43m)\u001B[49m\n\u001B[0;32m   1988\u001B[0m \u001B[38;5;66;03m# Let's create an ID that uniquely identifies the current call. If the\u001B[39;00m\n\u001B[0;32m   1989\u001B[0m \u001B[38;5;66;03m# call is interrupted early and that the same instance is immediately\u001B[39;00m\n\u001B[0;32m   1990\u001B[0m \u001B[38;5;66;03m# reused, this id will be used to prevent workers that were\u001B[39;00m\n\u001B[0;32m   1991\u001B[0m \u001B[38;5;66;03m# concurrently finalizing a task from the previous call to run the\u001B[39;00m\n\u001B[0;32m   1992\u001B[0m \u001B[38;5;66;03m# callback.\u001B[39;00m\n\u001B[0;32m   1993\u001B[0m \u001B[38;5;28;01mwith\u001B[39;00m \u001B[38;5;28mself\u001B[39m\u001B[38;5;241m.\u001B[39m_lock:\n",
      "File \u001B[1;32mC:\\PJATK\\magister\\1st\\EWD\\projects\\.venv\\lib\\site-packages\\joblib\\parallel.py:1914\u001B[0m, in \u001B[0;36mParallel._get_sequential_output\u001B[1;34m(self, iterable)\u001B[0m\n\u001B[0;32m   1912\u001B[0m \u001B[38;5;28mself\u001B[39m\u001B[38;5;241m.\u001B[39mn_dispatched_batches \u001B[38;5;241m+\u001B[39m\u001B[38;5;241m=\u001B[39m \u001B[38;5;241m1\u001B[39m\n\u001B[0;32m   1913\u001B[0m \u001B[38;5;28mself\u001B[39m\u001B[38;5;241m.\u001B[39mn_dispatched_tasks \u001B[38;5;241m+\u001B[39m\u001B[38;5;241m=\u001B[39m \u001B[38;5;241m1\u001B[39m\n\u001B[1;32m-> 1914\u001B[0m res \u001B[38;5;241m=\u001B[39m func(\u001B[38;5;241m*\u001B[39margs, \u001B[38;5;241m*\u001B[39m\u001B[38;5;241m*\u001B[39mkwargs)\n\u001B[0;32m   1915\u001B[0m \u001B[38;5;28mself\u001B[39m\u001B[38;5;241m.\u001B[39mn_completed_tasks \u001B[38;5;241m+\u001B[39m\u001B[38;5;241m=\u001B[39m \u001B[38;5;241m1\u001B[39m\n\u001B[0;32m   1916\u001B[0m \u001B[38;5;28mself\u001B[39m\u001B[38;5;241m.\u001B[39mprint_progress()\n",
      "File \u001B[1;32mC:\\PJATK\\magister\\1st\\EWD\\projects\\.venv\\lib\\site-packages\\sklearn\\utils\\parallel.py:139\u001B[0m, in \u001B[0;36m_FuncWrapper.__call__\u001B[1;34m(self, *args, **kwargs)\u001B[0m\n\u001B[0;32m    137\u001B[0m     config \u001B[38;5;241m=\u001B[39m {}\n\u001B[0;32m    138\u001B[0m \u001B[38;5;28;01mwith\u001B[39;00m config_context(\u001B[38;5;241m*\u001B[39m\u001B[38;5;241m*\u001B[39mconfig):\n\u001B[1;32m--> 139\u001B[0m     \u001B[38;5;28;01mreturn\u001B[39;00m \u001B[38;5;28mself\u001B[39m\u001B[38;5;241m.\u001B[39mfunction(\u001B[38;5;241m*\u001B[39margs, \u001B[38;5;241m*\u001B[39m\u001B[38;5;241m*\u001B[39mkwargs)\n",
      "File \u001B[1;32mC:\\PJATK\\magister\\1st\\EWD\\projects\\.venv\\lib\\site-packages\\sklearn\\ensemble\\_forest.py:189\u001B[0m, in \u001B[0;36m_parallel_build_trees\u001B[1;34m(tree, bootstrap, X, y, sample_weight, tree_idx, n_trees, verbose, class_weight, n_samples_bootstrap, missing_values_in_feature_mask)\u001B[0m\n\u001B[0;32m    186\u001B[0m     \u001B[38;5;28;01melif\u001B[39;00m class_weight \u001B[38;5;241m==\u001B[39m \u001B[38;5;124m\"\u001B[39m\u001B[38;5;124mbalanced_subsample\u001B[39m\u001B[38;5;124m\"\u001B[39m:\n\u001B[0;32m    187\u001B[0m         curr_sample_weight \u001B[38;5;241m*\u001B[39m\u001B[38;5;241m=\u001B[39m compute_sample_weight(\u001B[38;5;124m\"\u001B[39m\u001B[38;5;124mbalanced\u001B[39m\u001B[38;5;124m\"\u001B[39m, y, indices\u001B[38;5;241m=\u001B[39mindices)\n\u001B[1;32m--> 189\u001B[0m     \u001B[43mtree\u001B[49m\u001B[38;5;241;43m.\u001B[39;49m\u001B[43m_fit\u001B[49m\u001B[43m(\u001B[49m\n\u001B[0;32m    190\u001B[0m \u001B[43m        \u001B[49m\u001B[43mX\u001B[49m\u001B[43m,\u001B[49m\n\u001B[0;32m    191\u001B[0m \u001B[43m        \u001B[49m\u001B[43my\u001B[49m\u001B[43m,\u001B[49m\n\u001B[0;32m    192\u001B[0m \u001B[43m        \u001B[49m\u001B[43msample_weight\u001B[49m\u001B[38;5;241;43m=\u001B[39;49m\u001B[43mcurr_sample_weight\u001B[49m\u001B[43m,\u001B[49m\n\u001B[0;32m    193\u001B[0m \u001B[43m        \u001B[49m\u001B[43mcheck_input\u001B[49m\u001B[38;5;241;43m=\u001B[39;49m\u001B[38;5;28;43;01mFalse\u001B[39;49;00m\u001B[43m,\u001B[49m\n\u001B[0;32m    194\u001B[0m \u001B[43m        \u001B[49m\u001B[43mmissing_values_in_feature_mask\u001B[49m\u001B[38;5;241;43m=\u001B[39;49m\u001B[43mmissing_values_in_feature_mask\u001B[49m\u001B[43m,\u001B[49m\n\u001B[0;32m    195\u001B[0m \u001B[43m    \u001B[49m\u001B[43m)\u001B[49m\n\u001B[0;32m    196\u001B[0m \u001B[38;5;28;01melse\u001B[39;00m:\n\u001B[0;32m    197\u001B[0m     tree\u001B[38;5;241m.\u001B[39m_fit(\n\u001B[0;32m    198\u001B[0m         X,\n\u001B[0;32m    199\u001B[0m         y,\n\u001B[1;32m   (...)\u001B[0m\n\u001B[0;32m    202\u001B[0m         missing_values_in_feature_mask\u001B[38;5;241m=\u001B[39mmissing_values_in_feature_mask,\n\u001B[0;32m    203\u001B[0m     )\n",
      "File \u001B[1;32mC:\\PJATK\\magister\\1st\\EWD\\projects\\.venv\\lib\\site-packages\\sklearn\\tree\\_classes.py:472\u001B[0m, in \u001B[0;36mBaseDecisionTree._fit\u001B[1;34m(self, X, y, sample_weight, check_input, missing_values_in_feature_mask)\u001B[0m\n\u001B[0;32m    461\u001B[0m \u001B[38;5;28;01melse\u001B[39;00m:\n\u001B[0;32m    462\u001B[0m     builder \u001B[38;5;241m=\u001B[39m BestFirstTreeBuilder(\n\u001B[0;32m    463\u001B[0m         splitter,\n\u001B[0;32m    464\u001B[0m         min_samples_split,\n\u001B[1;32m   (...)\u001B[0m\n\u001B[0;32m    469\u001B[0m         \u001B[38;5;28mself\u001B[39m\u001B[38;5;241m.\u001B[39mmin_impurity_decrease,\n\u001B[0;32m    470\u001B[0m     )\n\u001B[1;32m--> 472\u001B[0m \u001B[43mbuilder\u001B[49m\u001B[38;5;241;43m.\u001B[39;49m\u001B[43mbuild\u001B[49m\u001B[43m(\u001B[49m\u001B[38;5;28;43mself\u001B[39;49m\u001B[38;5;241;43m.\u001B[39;49m\u001B[43mtree_\u001B[49m\u001B[43m,\u001B[49m\u001B[43m \u001B[49m\u001B[43mX\u001B[49m\u001B[43m,\u001B[49m\u001B[43m \u001B[49m\u001B[43my\u001B[49m\u001B[43m,\u001B[49m\u001B[43m \u001B[49m\u001B[43msample_weight\u001B[49m\u001B[43m,\u001B[49m\u001B[43m \u001B[49m\u001B[43mmissing_values_in_feature_mask\u001B[49m\u001B[43m)\u001B[49m\n\u001B[0;32m    474\u001B[0m \u001B[38;5;28;01mif\u001B[39;00m \u001B[38;5;28mself\u001B[39m\u001B[38;5;241m.\u001B[39mn_outputs_ \u001B[38;5;241m==\u001B[39m \u001B[38;5;241m1\u001B[39m \u001B[38;5;129;01mand\u001B[39;00m is_classifier(\u001B[38;5;28mself\u001B[39m):\n\u001B[0;32m    475\u001B[0m     \u001B[38;5;28mself\u001B[39m\u001B[38;5;241m.\u001B[39mn_classes_ \u001B[38;5;241m=\u001B[39m \u001B[38;5;28mself\u001B[39m\u001B[38;5;241m.\u001B[39mn_classes_[\u001B[38;5;241m0\u001B[39m]\n",
      "\u001B[1;31mKeyboardInterrupt\u001B[0m: "
     ]
    }
   ],
   "execution_count": 47
  },
  {
   "metadata": {
    "ExecuteTime": {
     "end_time": "2025-06-09T15:51:57.548849Z",
     "start_time": "2025-06-09T15:51:56.596572Z"
    }
   },
   "cell_type": "code",
   "source": "best_rf.feature_importances_",
   "id": "473de505688615ec",
   "outputs": [
    {
     "data": {
      "text/plain": [
       "array([6.52528015e-02, 5.66833433e-02, 6.28660373e-03, 4.81901715e-02,\n",
       "       5.53197818e-02, 5.45201269e-02, 3.95440720e-02, 4.61133732e-02,\n",
       "       4.69841562e-02, 1.64428965e-02, 1.21103606e-01, 1.08378220e-03,\n",
       "       4.66237710e-04, 2.17614987e-02, 2.34975567e-04, 4.46455354e-04,\n",
       "       1.99098544e-03, 3.82565056e-02, 2.76031225e-03, 8.25783409e-02,\n",
       "       4.07283985e-07, 2.08736058e-06, 3.56311438e-03, 6.43818706e-07,\n",
       "       0.00000000e+00, 2.34617318e-03, 0.00000000e+00, 4.19120962e-03,\n",
       "       2.81688892e-03, 2.09974039e-06, 3.81831413e-03, 9.80132471e-04,\n",
       "       3.83740100e-08, 2.95105375e-02, 2.93636602e-02, 3.40717139e-02,\n",
       "       4.98674984e-03, 3.67549167e-03, 2.85709863e-03, 3.68808227e-03,\n",
       "       2.76184084e-03, 3.01197177e-03, 3.51155443e-03, 3.95351513e-03,\n",
       "       2.69941990e-03, 4.16856178e-03, 3.41027239e-03, 3.80505116e-03,\n",
       "       1.77835795e-03, 1.85074265e-03, 1.67191798e-03, 2.63349976e-03,\n",
       "       3.44542471e-03, 2.93414382e-03, 2.91216175e-03, 3.28708832e-03,\n",
       "       3.79724892e-03, 3.98788852e-03, 2.65909774e-03, 3.53393234e-03,\n",
       "       1.78516475e-03, 6.93788873e-04, 1.68744818e-03, 1.75026807e-03,\n",
       "       1.15186340e-03, 6.11021265e-02, 3.01608305e-03, 3.45578449e-03,\n",
       "       2.24768513e-03, 3.01429402e-03, 2.74887391e-03, 9.07594720e-03,\n",
       "       4.67845064e-03, 2.69971708e-04, 3.47344597e-03, 6.14064290e-03])"
      ]
     },
     "execution_count": 12,
     "metadata": {},
     "output_type": "execute_result"
    }
   ],
   "execution_count": 12
  },
  {
   "metadata": {
    "ExecuteTime": {
     "end_time": "2025-06-09T17:43:04.603560Z",
     "start_time": "2025-06-09T17:42:58.276369Z"
    }
   },
   "cell_type": "code",
   "source": [
    "import numpy as np\n",
    "\n",
    "# Assuming best_rf is already trained\n",
    "feature_importances = best_rf.feature_importances_\n",
    "\n",
    "# Sort features by importance (descending)\n",
    "sorted_indices = np.argsort(feature_importances)[::-1]\n",
    "sorted_importances = feature_importances[sorted_indices]\n",
    "\n",
    "# Print readable output\n",
    "print(\"Feature importances (sorted):\")\n",
    "for i, importance in enumerate(sorted_importances):\n",
    "    print(f\"Feature {sorted_indices[i]}: {importance:.4f}\")"
   ],
   "id": "200489c5b797b17a",
   "outputs": [
    {
     "name": "stdout",
     "output_type": "stream",
     "text": [
      "Feature importances (sorted):\n",
      "Feature 10: 0.1211\n",
      "Feature 19: 0.0826\n",
      "Feature 0: 0.0653\n",
      "Feature 65: 0.0611\n",
      "Feature 1: 0.0567\n",
      "Feature 4: 0.0553\n",
      "Feature 5: 0.0545\n",
      "Feature 3: 0.0482\n",
      "Feature 8: 0.0470\n",
      "Feature 7: 0.0461\n",
      "Feature 6: 0.0395\n",
      "Feature 17: 0.0383\n",
      "Feature 35: 0.0341\n",
      "Feature 33: 0.0295\n",
      "Feature 34: 0.0294\n",
      "Feature 13: 0.0218\n",
      "Feature 9: 0.0164\n",
      "Feature 71: 0.0091\n",
      "Feature 2: 0.0063\n",
      "Feature 75: 0.0061\n",
      "Feature 36: 0.0050\n",
      "Feature 72: 0.0047\n",
      "Feature 27: 0.0042\n",
      "Feature 45: 0.0042\n",
      "Feature 57: 0.0040\n",
      "Feature 43: 0.0040\n",
      "Feature 30: 0.0038\n",
      "Feature 47: 0.0038\n",
      "Feature 56: 0.0038\n",
      "Feature 39: 0.0037\n",
      "Feature 37: 0.0037\n",
      "Feature 22: 0.0036\n",
      "Feature 59: 0.0035\n",
      "Feature 42: 0.0035\n",
      "Feature 74: 0.0035\n",
      "Feature 67: 0.0035\n",
      "Feature 52: 0.0034\n",
      "Feature 46: 0.0034\n",
      "Feature 55: 0.0033\n",
      "Feature 66: 0.0030\n",
      "Feature 69: 0.0030\n",
      "Feature 41: 0.0030\n",
      "Feature 53: 0.0029\n",
      "Feature 54: 0.0029\n",
      "Feature 38: 0.0029\n",
      "Feature 28: 0.0028\n",
      "Feature 40: 0.0028\n",
      "Feature 18: 0.0028\n",
      "Feature 70: 0.0027\n",
      "Feature 44: 0.0027\n",
      "Feature 58: 0.0027\n",
      "Feature 51: 0.0026\n",
      "Feature 25: 0.0023\n",
      "Feature 68: 0.0022\n",
      "Feature 16: 0.0020\n",
      "Feature 49: 0.0019\n",
      "Feature 60: 0.0018\n",
      "Feature 48: 0.0018\n",
      "Feature 63: 0.0018\n",
      "Feature 62: 0.0017\n",
      "Feature 50: 0.0017\n",
      "Feature 64: 0.0012\n",
      "Feature 11: 0.0011\n",
      "Feature 31: 0.0010\n",
      "Feature 61: 0.0007\n",
      "Feature 12: 0.0005\n",
      "Feature 15: 0.0004\n",
      "Feature 73: 0.0003\n",
      "Feature 14: 0.0002\n",
      "Feature 29: 0.0000\n",
      "Feature 21: 0.0000\n",
      "Feature 23: 0.0000\n",
      "Feature 20: 0.0000\n",
      "Feature 32: 0.0000\n",
      "Feature 26: 0.0000\n",
      "Feature 24: 0.0000\n"
     ]
    }
   ],
   "execution_count": 13
  },
  {
   "metadata": {
    "ExecuteTime": {
     "end_time": "2025-06-10T22:17:12.831211Z",
     "start_time": "2025-06-10T22:17:12.755709Z"
    }
   },
   "cell_type": "code",
   "source": [
    "import numpy as np\n",
    "\n",
    "# feature_importances = best_rf.feature_importances_\n",
    "feature_importances = rf.feature_importances_\n",
    "sorted_indices = np.argsort(feature_importances)[::-1]\n",
    "feature_names = X_train.columns\n",
    "print(\"Feature importances (sorted):\")\n",
    "for i in sorted_indices:\n",
    "    print(f\"{feature_names[i]}: {feature_importances[i]:.4f}\")"
   ],
   "id": "9ca5414ea0bfc5a6",
   "outputs": [
    {
     "name": "stdout",
     "output_type": "stream",
     "text": [
      "Feature importances (sorted):\n",
      "Good for Party: 0.1160\n",
      "Loudness: 0.0828\n",
      "Danceability: 0.0596\n",
      "Length: 0.0567\n",
      "Good for Exercise: 0.0542\n",
      "Energy: 0.0471\n",
      "Word count: 0.0464\n",
      "Good for Social Gatherings: 0.0445\n",
      "Positiveness: 0.0440\n",
      "Tempo: 0.0429\n",
      "Acousticness: 0.0407\n",
      "Speechiness: 0.0369\n",
      "Liveness: 0.0351\n",
      "Age: 0.0327\n",
      "Year: 0.0312\n",
      "Month: 0.0293\n",
      "genre_pop: 0.0258\n",
      "Instrumentalness: 0.0170\n",
      "Good for Morning Routine: 0.0096\n",
      "Year Bin: 0.0085\n",
      "genre_rock: 0.0080\n",
      "Explicit: 0.0078\n",
      "Major: 0.0055\n",
      "genre_rap: 0.0050\n",
      "Single: 0.0050\n",
      "has_oh: 0.0049\n",
      "has_yeah: 0.0048\n",
      "key_D Maj: 0.0037\n",
      "key_G Maj: 0.0033\n",
      "emotion_joy: 0.0033\n",
      "has_baby: 0.0033\n",
      "key_C Maj: 0.0031\n",
      "key_C# Maj: 0.0031\n",
      "Good for Driving: 0.0030\n",
      "key_A Maj: 0.0030\n",
      "key_F# min: 0.0029\n",
      "genre_rnb: 0.0028\n",
      "emotion_anger: 0.0028\n",
      "key_C# min: 0.0027\n",
      "emotion_sadness: 0.0027\n",
      "key_C min: 0.0026\n",
      "has_of: 0.0026\n",
      "emotion_fear: 0.0025\n",
      "genre_folk: 0.0025\n",
      "genre_others: 0.0025\n",
      "key_G# Maj: 0.0024\n",
      "key_F# Maj: 0.0024\n",
      "key_F Maj: 0.0023\n",
      "genre_electronic: 0.0023\n",
      "emotion_love: 0.0022\n",
      "key_E min: 0.0021\n",
      "genre_jazz: 0.0020\n",
      "key_A# min: 0.0019\n",
      "key_B min: 0.0019\n",
      "key_F min: 0.0018\n",
      "genre_metal: 0.0018\n",
      "key_A# Maj: 0.0018\n",
      "key_B Maj: 0.0017\n",
      "key_E Maj: 0.0016\n",
      "key_D# Maj: 0.0016\n",
      "ts_4/4: 0.0015\n",
      "key_A min: 0.0014\n",
      "key_D min: 0.0013\n",
      "key_D# min: 0.0013\n",
      "has_and: 0.0013\n",
      "key_G min: 0.0013\n",
      "key_G# min: 0.0012\n",
      "ts_3/4: 0.0012\n",
      "Good for Work/Study: 0.0010\n",
      "genre_classical: 0.0007\n",
      "ts_1/4: 0.0006\n",
      "ts_5/4: 0.0006\n",
      "has_the: 0.0006\n",
      "Good for Relaxation/Meditation: 0.0004\n",
      "emotion_surprise: 0.0004\n",
      "English: 0.0003\n",
      "Good for Yoga/Stretching: 0.0003\n",
      "Good for Running: 0.0002\n",
      "genre_religious: 0.0001\n",
      "genre_unknown: 0.0000\n"
     ]
    }
   ],
   "execution_count": 24
  },
  {
   "metadata": {
    "ExecuteTime": {
     "end_time": "2025-06-10T23:09:47.814623Z",
     "start_time": "2025-06-10T23:09:26.631623Z"
    }
   },
   "cell_type": "code",
   "source": [
    "import pandas as pd\n",
    "\n",
    "df = pd.read_csv('data/cleaned_data.csv')"
   ],
   "id": "a21763aca7722cf5",
   "outputs": [],
   "execution_count": 43
  },
  {
   "metadata": {
    "ExecuteTime": {
     "end_time": "2025-06-10T22:25:57.074987Z",
     "start_time": "2025-06-10T22:24:24.733989Z"
    }
   },
   "cell_type": "code",
   "source": [
    "from sklearn.pipeline import Pipeline\n",
    "from sklearn.linear_model import LinearRegression\n",
    "from sklearn.ensemble import RandomForestRegressor\n",
    "from xgboost import XGBRegressor\n",
    "from sklearn.model_selection import train_test_split\n",
    "\n",
    "# Models to try\n",
    "models = {\n",
    "    'RandomForest': RandomForestRegressor(random_state=42)\n",
    "}\n",
    "\n",
    "results = []\n",
    "\n",
    "# Preprocess and fit each model\n",
    "for name, model in models.items():\n",
    "    pipeline = Pipeline([\n",
    "        ('scaler', StandardScaler()),\n",
    "        ('model', model)\n",
    "    ])\n",
    "    pipeline.fit(X_train, y_train)\n",
    "    y_pred = pipeline.predict(X_test)\n",
    "    # Evaluate as needed\n",
    "    print(f\"{name} fitted and evaluated.\")\n",
    "\n",
    "    # Calculate metrics\n",
    "    mae = mean_absolute_error(y_test, y_pred)\n",
    "    mse = mean_squared_error(y_test, y_pred)\n",
    "    r2 = r2_score(y_test, y_pred)\n",
    "\n",
    "    results.append({\n",
    "        'Model': name,\n",
    "        'MAE': mae,\n",
    "        'MSE': mse,\n",
    "        'R2': r2\n",
    "    })"
   ],
   "id": "c78d21b7bd5b9620",
   "outputs": [
    {
     "name": "stdout",
     "output_type": "stream",
     "text": [
      "RandomForest fitted and evaluated.\n"
     ]
    }
   ],
   "execution_count": 30
  },
  {
   "metadata": {
    "ExecuteTime": {
     "end_time": "2025-06-10T22:22:42.363433Z",
     "start_time": "2025-06-10T22:22:42.349434Z"
    }
   },
   "cell_type": "code",
   "source": [
    "results_df = pd.DataFrame(results)\n",
    "results_df"
   ],
   "id": "75bfcf4fc5bd1488",
   "outputs": [
    {
     "data": {
      "text/plain": [
       "          Model       MAE         MSE        R2\n",
       "0  RandomForest  9.024775  168.388777  0.700292"
      ],
      "text/html": [
       "<div>\n",
       "<style scoped>\n",
       "    .dataframe tbody tr th:only-of-type {\n",
       "        vertical-align: middle;\n",
       "    }\n",
       "\n",
       "    .dataframe tbody tr th {\n",
       "        vertical-align: top;\n",
       "    }\n",
       "\n",
       "    .dataframe thead th {\n",
       "        text-align: right;\n",
       "    }\n",
       "</style>\n",
       "<table border=\"1\" class=\"dataframe\">\n",
       "  <thead>\n",
       "    <tr style=\"text-align: right;\">\n",
       "      <th></th>\n",
       "      <th>Model</th>\n",
       "      <th>MAE</th>\n",
       "      <th>MSE</th>\n",
       "      <th>R2</th>\n",
       "    </tr>\n",
       "  </thead>\n",
       "  <tbody>\n",
       "    <tr>\n",
       "      <th>0</th>\n",
       "      <td>RandomForest</td>\n",
       "      <td>9.024775</td>\n",
       "      <td>168.388777</td>\n",
       "      <td>0.700292</td>\n",
       "    </tr>\n",
       "  </tbody>\n",
       "</table>\n",
       "</div>"
      ]
     },
     "execution_count": 27,
     "metadata": {},
     "output_type": "execute_result"
    }
   ],
   "execution_count": 27
  },
  {
   "metadata": {
    "ExecuteTime": {
     "end_time": "2025-06-10T22:24:16.308988Z",
     "start_time": "2025-06-10T22:23:54.527486Z"
    }
   },
   "cell_type": "code",
   "source": [
    "import pandas as pd\n",
    "\n",
    "df = pd.read_csv('data/cleaned_data.csv')\n",
    "low = df[df['Popularity'] <= 33]\n",
    "medium = df[(df['Popularity'] > 33) & (df['Popularity'] <= 66)]\n",
    "high = df[df['Popularity'] > 66]\n",
    "\n",
    "# Sample the same number from each\n",
    "n = min(len(low), len(medium), len(high))  # or choose a fixed number\n",
    "print(f'Lowest group {n}')\n",
    "low_sample = low.sample(n)\n",
    "medium_sample = medium.sample(n)\n",
    "high_sample = high.sample(n)\n",
    "\n",
    "balanced_df = pd.concat([low_sample, medium_sample, high_sample])\n",
    "df = balanced_df"
   ],
   "id": "8876be0e2edd747c",
   "outputs": [
    {
     "name": "stdout",
     "output_type": "stream",
     "text": [
      "Lowest group 29796\n"
     ]
    }
   ],
   "execution_count": 28
  },
  {
   "metadata": {
    "ExecuteTime": {
     "end_time": "2025-06-10T22:25:57.290003Z",
     "start_time": "2025-06-10T22:25:57.279487Z"
    }
   },
   "cell_type": "code",
   "source": [
    "# Check with balanced dataset\n",
    "results_df = pd.DataFrame(results)\n",
    "results_df"
   ],
   "id": "5de0700c3d749994",
   "outputs": [
    {
     "data": {
      "text/plain": [
       "          Model       MAE         MSE        R2\n",
       "0  RandomForest  9.024775  168.388777  0.700292"
      ],
      "text/html": [
       "<div>\n",
       "<style scoped>\n",
       "    .dataframe tbody tr th:only-of-type {\n",
       "        vertical-align: middle;\n",
       "    }\n",
       "\n",
       "    .dataframe tbody tr th {\n",
       "        vertical-align: top;\n",
       "    }\n",
       "\n",
       "    .dataframe thead th {\n",
       "        text-align: right;\n",
       "    }\n",
       "</style>\n",
       "<table border=\"1\" class=\"dataframe\">\n",
       "  <thead>\n",
       "    <tr style=\"text-align: right;\">\n",
       "      <th></th>\n",
       "      <th>Model</th>\n",
       "      <th>MAE</th>\n",
       "      <th>MSE</th>\n",
       "      <th>R2</th>\n",
       "    </tr>\n",
       "  </thead>\n",
       "  <tbody>\n",
       "    <tr>\n",
       "      <th>0</th>\n",
       "      <td>RandomForest</td>\n",
       "      <td>9.024775</td>\n",
       "      <td>168.388777</td>\n",
       "      <td>0.700292</td>\n",
       "    </tr>\n",
       "  </tbody>\n",
       "</table>\n",
       "</div>"
      ]
     },
     "execution_count": 31,
     "metadata": {},
     "output_type": "execute_result"
    }
   ],
   "execution_count": 31
  },
  {
   "metadata": {},
   "cell_type": "code",
   "outputs": [],
   "execution_count": null,
   "source": "",
   "id": "b1a61db0ee1116b"
  },
  {
   "metadata": {
    "ExecuteTime": {
     "end_time": "2025-06-10T23:30:07.388866Z",
     "start_time": "2025-06-10T23:30:07.039363Z"
    }
   },
   "cell_type": "code",
   "source": [
    "import matplotlib.pyplot as plt\n",
    "\n",
    "# Data\n",
    "models = ['LinearRegression', 'RandomForest', 'eXtremeGBoost', 'GBoost', 'HGBoosting']\n",
    "r2_scores = [0.302, 0.700, 0.606, 0.372, 0.482]  # Rounded for brevity\n",
    "\n",
    "# Spotify green color\n",
    "spotify_green = '#1DB954'\n",
    "\n",
    "fig, ax = plt.subplots(figsize=(16, 4))\n",
    "\n",
    "# Horizontal bar plot\n",
    "ax.barh(models, r2_scores, color=spotify_green)\n",
    "\n",
    "# Set white background\n",
    "fig.patch.set_facecolor('white')\n",
    "ax.set_facecolor('white')\n",
    "\n",
    "# Labels and title\n",
    "ax.set_xlabel('R² Score')\n",
    "ax.set_title('Model R² Scores')\n",
    "\n",
    "# Invert y-axis to have the highest R² on top\n",
    "ax.invert_yaxis()\n",
    "\n",
    "plt.tight_layout()\n",
    "plt.show()\n",
    "\n"
   ],
   "id": "21fd0d6b5d77548f",
   "outputs": [
    {
     "data": {
      "text/plain": [
       "<Figure size 1600x400 with 1 Axes>"
      ],
      "image/png": "[encoded data removed]"
     },
     "metadata": {},
     "output_type": "display_data"
    }
   ],
   "execution_count": 56
  }
 ],
 "metadata": {
  "kernelspec": {
   "display_name": "Python 3",
   "language": "python",
   "name": "python3"
  },
  "language_info": {
   "codemirror_mode": {
    "name": "ipython",
    "version": 2
   },
   "file_extension": ".py",
   "mimetype": "text/x-python",
   "name": "python",
   "nbconvert_exporter": "python",
   "pygments_lexer": "ipython2",
   "version": "2.7.6"
  }
 },
 "nbformat": 4,
 "nbformat_minor": 5
}
