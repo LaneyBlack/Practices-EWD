{
 "cells": [
  {
   "metadata": {},
   "cell_type": "code",
   "outputs": [],
   "execution_count": null,
   "source": [
    "import pandas as pd\n",
    "\n",
    "df = pd.read_csv('data/cleaned_data.csv')"
   ],
   "id": "2676fefcbbe5b092"
  },
  {
   "metadata": {},
   "cell_type": "code",
   "outputs": [],
   "execution_count": null,
   "source": [
    "import pandas as pd\n",
    "import matplotlib.pyplot as plt\n",
    "\n",
    "# Define your target genres\n",
    "target_genres = ['genre_rock', 'genre_pop', 'genre_rap','genre_jazz', 'genre_folk']\n",
    "\n",
    "# Ensure Year is numeric and clean\n",
    "df['Year'] = pd.to_numeric(df['Year'], errors='coerce').astype('Int64')\n",
    "df = df.dropna(subset=['Year'])\n",
    "\n",
    "# Step 1: Sort and get Top 100 songs per year\n",
    "top100 = (\n",
    "    df.sort_values(['Year', 'Popularity'], ascending=[True, False])\n",
    "    .groupby('Year')\n",
    "    .head(100)\n",
    ")\n",
    "\n",
    "top100 = top100[(top100['Year'] > 1960)]\n",
    "# Step 2: Bin years into 5-year periods\n",
    "top100['Year Bin'] = (top100['Year'] // 5) * 5\n",
    "\n",
    "# Step 3: For each 5-year bin, calculate % of Top 100 songs per genre\n",
    "genre_counts = top100.groupby(['Year Bin'])[target_genres].sum()\n",
    "total_counts = top100.groupby('Year Bin').size()  # should be 100 per year, but robust\n",
    "genre_percentages = genre_counts.div(total_counts, axis=0) * 100\n",
    "\n",
    "# Step 4: Plot as a grouped bar chart\n",
    "genre_percentages.plot(kind='bar', figsize=(14, 6))\n",
    "plt.title('Average % of Songs in Top 100 per 5-Year Period by Genre')\n",
    "plt.xlabel('Release Year (5-Year Bins)')\n",
    "plt.ylabel('Average % of Top 100 Songs')\n",
    "plt.legend(title='Genre')\n",
    "plt.tight_layout()\n",
    "plt.show()"
   ],
   "id": "365368b9ddcdd406"
  },
  {
   "metadata": {},
   "cell_type": "code",
   "outputs": [],
   "execution_count": null,
   "source": [
    "SSgenre_counts.plot(kind='bar', figsize=(14, 6))\n",
    "plt.title('Number of Songs per Genre (Grouped by 5-Year Intervals)')\n",
    "plt.xlabel('Release Year (5-Year Bins)')\n",
    "plt.ylabel('Number of Songs')\n",
    "plt.legend(title='Genre')\n",
    "plt.tight_layout()\n",
    "plt.show()"
   ],
   "id": "d4baa9c584c7fce3"
  }
 ],
 "metadata": {},
 "nbformat": 5,
 "nbformat_minor": 9
}
