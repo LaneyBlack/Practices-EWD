{
 "cells": [
  {
   "metadata": {},
   "cell_type": "markdown",
   "source": "## Zadanie 1",
   "id": "495c74d8c78032b7"
  },
  {
   "cell_type": "code",
   "id": "initial_id",
   "metadata": {
    "collapsed": true,
    "ExecuteTime": {
     "end_time": "2025-05-14T14:34:12.662244Z",
     "start_time": "2025-05-14T14:34:12.484064Z"
    }
   },
   "source": [
    "import pandas as pd\n",
    "\n",
    "df = pd.read_csv(\"spam.csv\")"
   ],
   "outputs": [],
   "execution_count": 10
  },
  {
   "metadata": {
    "ExecuteTime": {
     "end_time": "2025-05-14T14:34:14.268266Z",
     "start_time": "2025-05-14T14:34:14.202942Z"
    }
   },
   "cell_type": "code",
   "source": "df['label'] = df['Category'].map({'ham': 0, 'spam': 1})",
   "id": "e2a698aba828f1fd",
   "outputs": [],
   "execution_count": 11
  },
  {
   "metadata": {
    "ExecuteTime": {
     "end_time": "2025-05-14T14:34:15.499487Z",
     "start_time": "2025-05-14T14:34:15.476695Z"
    }
   },
   "cell_type": "code",
   "source": "df.head()",
   "id": "c9e1f4b630d52a87",
   "outputs": [
    {
     "data": {
      "text/plain": [
       "  Category                                            Message  label\n",
       "0      ham  Go until jurong point, crazy.. Available only ...      0\n",
       "1      ham                      Ok lar... Joking wif u oni...      0\n",
       "2     spam  Free entry in 2 a wkly comp to win FA Cup fina...      1\n",
       "3      ham  U dun say so early hor... U c already then say...      0\n",
       "4      ham  Nah I don't think he goes to usf, he lives aro...      0"
      ],
      "text/html": [
       "<div>\n",
       "<style scoped>\n",
       "    .dataframe tbody tr th:only-of-type {\n",
       "        vertical-align: middle;\n",
       "    }\n",
       "\n",
       "    .dataframe tbody tr th {\n",
       "        vertical-align: top;\n",
       "    }\n",
       "\n",
       "    .dataframe thead th {\n",
       "        text-align: right;\n",
       "    }\n",
       "</style>\n",
       "<table border=\"1\" class=\"dataframe\">\n",
       "  <thead>\n",
       "    <tr style=\"text-align: right;\">\n",
       "      <th></th>\n",
       "      <th>Category</th>\n",
       "      <th>Message</th>\n",
       "      <th>label</th>\n",
       "    </tr>\n",
       "  </thead>\n",
       "  <tbody>\n",
       "    <tr>\n",
       "      <th>0</th>\n",
       "      <td>ham</td>\n",
       "      <td>Go until jurong point, crazy.. Available only ...</td>\n",
       "      <td>0</td>\n",
       "    </tr>\n",
       "    <tr>\n",
       "      <th>1</th>\n",
       "      <td>ham</td>\n",
       "      <td>Ok lar... Joking wif u oni...</td>\n",
       "      <td>0</td>\n",
       "    </tr>\n",
       "    <tr>\n",
       "      <th>2</th>\n",
       "      <td>spam</td>\n",
       "      <td>Free entry in 2 a wkly comp to win FA Cup fina...</td>\n",
       "      <td>1</td>\n",
       "    </tr>\n",
       "    <tr>\n",
       "      <th>3</th>\n",
       "      <td>ham</td>\n",
       "      <td>U dun say so early hor... U c already then say...</td>\n",
       "      <td>0</td>\n",
       "    </tr>\n",
       "    <tr>\n",
       "      <th>4</th>\n",
       "      <td>ham</td>\n",
       "      <td>Nah I don't think he goes to usf, he lives aro...</td>\n",
       "      <td>0</td>\n",
       "    </tr>\n",
       "  </tbody>\n",
       "</table>\n",
       "</div>"
      ]
     },
     "execution_count": 12,
     "metadata": {},
     "output_type": "execute_result"
    }
   ],
   "execution_count": 12
  },
  {
   "metadata": {
    "ExecuteTime": {
     "end_time": "2025-05-14T14:34:17.565155Z",
     "start_time": "2025-05-14T14:34:17.331688Z"
    }
   },
   "cell_type": "code",
   "source": [
    "from sklearn.feature_extraction.text import CountVectorizer\n",
    "\n",
    "vectorizer = CountVectorizer()\n",
    "X = vectorizer.fit_transform(df['Message'])\n",
    "y = df['label']"
   ],
   "id": "a82bf235effef093",
   "outputs": [],
   "execution_count": 13
  },
  {
   "metadata": {
    "ExecuteTime": {
     "end_time": "2025-05-14T14:34:19.646729Z",
     "start_time": "2025-05-14T14:34:19.583294Z"
    }
   },
   "cell_type": "code",
   "source": [
    "from sklearn.model_selection import train_test_split\n",
    "\n",
    "X_train, X_test, y_train, y_test = train_test_split(X, y, test_size=0.2, random_state=42)"
   ],
   "id": "8037eb9980359fc",
   "outputs": [],
   "execution_count": 14
  },
  {
   "metadata": {
    "ExecuteTime": {
     "end_time": "2025-05-14T14:34:21.401900Z",
     "start_time": "2025-05-14T14:34:20.985462Z"
    }
   },
   "cell_type": "code",
   "source": [
    "from sklearn.metrics import accuracy_score, classification_report\n",
    "from sklearn.linear_model import LogisticRegression\n",
    "from sklearn.neighbors import KNeighborsClassifier\n",
    "from sklearn.naive_bayes import MultinomialNB\n",
    "\n",
    "models = {\n",
    "    \"MultinomialNB\": MultinomialNB(),\n",
    "    \"KNeighborsClassifier\": KNeighborsClassifier(),\n",
    "    \"LogisticRegression\": LogisticRegression(max_iter=1000)\n",
    "}\n",
    "\n",
    "# 6. Trenowanie i ocena\n",
    "for name, model in models.items():\n",
    "    model.fit(X_train, y_train)\n",
    "    y_pred = model.predict(X_test)\n",
    "    print(f\"\\n=== {name} ===\")\n",
    "    print(\"Accuracy:\", accuracy_score(y_test, y_pred))\n",
    "    print(classification_report(y_test, y_pred))"
   ],
   "id": "1a904583db0ec05c",
   "outputs": [
    {
     "name": "stdout",
     "output_type": "stream",
     "text": [
      "\n",
      "=== MultinomialNB ===\n",
      "Accuracy: 0.9856502242152466\n",
      "              precision    recall  f1-score   support\n",
      "\n",
      "           0       0.99      0.99      0.99       966\n",
      "           1       0.94      0.95      0.95       149\n",
      "\n",
      "    accuracy                           0.99      1115\n",
      "   macro avg       0.97      0.97      0.97      1115\n",
      "weighted avg       0.99      0.99      0.99      1115\n",
      "\n",
      "\n",
      "=== KNeighborsClassifier ===\n",
      "Accuracy: 0.9255605381165919\n",
      "              precision    recall  f1-score   support\n",
      "\n",
      "           0       0.92      1.00      0.96       966\n",
      "           1       1.00      0.44      0.61       149\n",
      "\n",
      "    accuracy                           0.93      1115\n",
      "   macro avg       0.96      0.72      0.79      1115\n",
      "weighted avg       0.93      0.93      0.91      1115\n",
      "\n",
      "\n",
      "=== LogisticRegression ===\n",
      "Accuracy: 0.9856502242152466\n",
      "              precision    recall  f1-score   support\n",
      "\n",
      "           0       0.98      1.00      0.99       966\n",
      "           1       0.99      0.90      0.94       149\n",
      "\n",
      "    accuracy                           0.99      1115\n",
      "   macro avg       0.99      0.95      0.97      1115\n",
      "weighted avg       0.99      0.99      0.99      1115\n",
      "\n"
     ]
    }
   ],
   "execution_count": 15
  },
  {
   "metadata": {},
   "cell_type": "markdown",
   "source": "## Zadanie 2",
   "id": "d960fcee8cbda773"
  },
  {
   "metadata": {
    "ExecuteTime": {
     "end_time": "2025-05-14T14:41:17.447431Z",
     "start_time": "2025-05-14T14:41:16.353375Z"
    }
   },
   "cell_type": "code",
   "source": "df = pd.read_csv('IMDB Dataset.csv')",
   "id": "1a676189f0a621ba",
   "outputs": [],
   "execution_count": 24
  },
  {
   "metadata": {
    "ExecuteTime": {
     "end_time": "2025-05-14T14:47:49.781329Z",
     "start_time": "2025-05-14T14:47:49.745035Z"
    }
   },
   "cell_type": "code",
   "source": [
    "from sklearn.preprocessing import LabelEncoder\n",
    "\n",
    "# 2. Konwersja etykiet tekstowych ('positive', 'negative') na numeryczne\n",
    "label_encoder = LabelEncoder()\n",
    "df['label'] = label_encoder.fit_transform(df['sentiment'])  # 'positive' → 1, 'negative' → 0\n",
    "\n",
    "X = df['review']\n",
    "y = df['label']"
   ],
   "id": "99a2bfa4eb8dd959",
   "outputs": [],
   "execution_count": 27
  },
  {
   "metadata": {
    "ExecuteTime": {
     "end_time": "2025-05-14T14:47:50.967472Z",
     "start_time": "2025-05-14T14:47:50.904051Z"
    }
   },
   "cell_type": "code",
   "source": [
    "from sklearn.pipeline import make_pipeline\n",
    "\n",
    "models = {\n",
    "    'MultinomialNB': MultinomialNB(),\n",
    "    'KNeighborsClassifier': KNeighborsClassifier(),\n",
    "    'LogisticRegression': LogisticRegression(max_iter=1000)\n",
    "}\n",
    "scoring = ['accuracy', 'f1']"
   ],
   "id": "751778cfaeaabeb3",
   "outputs": [],
   "execution_count": 28
  },
  {
   "metadata": {
    "ExecuteTime": {
     "end_time": "2025-05-14T14:58:33.157716Z",
     "start_time": "2025-05-14T14:48:10.412858Z"
    }
   },
   "cell_type": "code",
   "source": [
    "import numpy as np\n",
    "from sklearn.feature_extraction.text import TfidfVectorizer\n",
    "from sklearn.model_selection import cross_validate\n",
    "\n",
    "results = {}\n",
    "for name, model in models.items():\n",
    "    pipeline = make_pipeline(TfidfVectorizer(), model)\n",
    "    cv_result = cross_validate(\n",
    "        pipeline,\n",
    "        X, y,\n",
    "        cv=5,\n",
    "        scoring=scoring,\n",
    "        return_train_score=False\n",
    "    )\n",
    "    results[name] = {\n",
    "        'Accuracy (mean)': np.mean(cv_result['test_accuracy']),\n",
    "        'F1-score (mean)': np.mean(cv_result['test_f1']),\n",
    "        'Fit time (mean)': np.mean(cv_result['fit_time']),\n",
    "        'Score time (mean)': np.mean(cv_result['score_time'])\n",
    "    }"
   ],
   "id": "d1d328c9517801a3",
   "outputs": [],
   "execution_count": 29
  },
  {
   "metadata": {
    "ExecuteTime": {
     "end_time": "2025-05-14T14:58:56.231925Z",
     "start_time": "2025-05-14T14:58:56.097926Z"
    }
   },
   "cell_type": "code",
   "source": [
    "df_results = pd.DataFrame(results).T\n",
    "df_results"
   ],
   "id": "cd1f6d4067b117c3",
   "outputs": [
    {
     "data": {
      "text/plain": [
       "                      Accuracy (mean)  F1-score (mean)  Fit time (mean)  \\\n",
       "MultinomialNB                 0.86370         0.860267         9.814001   \n",
       "KNeighborsClassifier          0.76998         0.773332        12.793124   \n",
       "LogisticRegression            0.89620         0.897238        27.320832   \n",
       "\n",
       "                      Score time (mean)  \n",
       "MultinomialNB                  2.307199  \n",
       "KNeighborsClassifier          67.689866  \n",
       "LogisticRegression             4.379542  "
      ],
      "text/html": [
       "<div>\n",
       "<style scoped>\n",
       "    .dataframe tbody tr th:only-of-type {\n",
       "        vertical-align: middle;\n",
       "    }\n",
       "\n",
       "    .dataframe tbody tr th {\n",
       "        vertical-align: top;\n",
       "    }\n",
       "\n",
       "    .dataframe thead th {\n",
       "        text-align: right;\n",
       "    }\n",
       "</style>\n",
       "<table border=\"1\" class=\"dataframe\">\n",
       "  <thead>\n",
       "    <tr style=\"text-align: right;\">\n",
       "      <th></th>\n",
       "      <th>Accuracy (mean)</th>\n",
       "      <th>F1-score (mean)</th>\n",
       "      <th>Fit time (mean)</th>\n",
       "      <th>Score time (mean)</th>\n",
       "    </tr>\n",
       "  </thead>\n",
       "  <tbody>\n",
       "    <tr>\n",
       "      <th>MultinomialNB</th>\n",
       "      <td>0.86370</td>\n",
       "      <td>0.860267</td>\n",
       "      <td>9.814001</td>\n",
       "      <td>2.307199</td>\n",
       "    </tr>\n",
       "    <tr>\n",
       "      <th>KNeighborsClassifier</th>\n",
       "      <td>0.76998</td>\n",
       "      <td>0.773332</td>\n",
       "      <td>12.793124</td>\n",
       "      <td>67.689866</td>\n",
       "    </tr>\n",
       "    <tr>\n",
       "      <th>LogisticRegression</th>\n",
       "      <td>0.89620</td>\n",
       "      <td>0.897238</td>\n",
       "      <td>27.320832</td>\n",
       "      <td>4.379542</td>\n",
       "    </tr>\n",
       "  </tbody>\n",
       "</table>\n",
       "</div>"
      ]
     },
     "execution_count": 30,
     "metadata": {},
     "output_type": "execute_result"
    }
   ],
   "execution_count": 30
  }
 ],
 "metadata": {
  "kernelspec": {
   "display_name": "Python 3",
   "language": "python",
   "name": "python3"
  },
  "language_info": {
   "codemirror_mode": {
    "name": "ipython",
    "version": 2
   },
   "file_extension": ".py",
   "mimetype": "text/x-python",
   "name": "python",
   "nbconvert_exporter": "python",
   "pygments_lexer": "ipython2",
   "version": "2.7.6"
  }
 },
 "nbformat": 4,
 "nbformat_minor": 5
}
